{
 "cells": [
  {
   "cell_type": "code",
   "execution_count": 3,
   "metadata": {},
   "outputs": [],
   "source": [
    "# Import necessary libraries\n",
    "from transformers import BertTokenizer, BertForSequenceClassification, Trainer, TrainingArguments\n",
    "import torch\n",
    "from torch.utils.data import Dataset\n",
    "import numpy as np\n",
    "from sklearn.model_selection import train_test_split\n",
    "from sklearn.metrics import accuracy_score, precision_recall_fscore_support\n"
   ]
  },
  {
   "cell_type": "code",
   "execution_count": null,
   "metadata": {},
   "outputs": [
    {
     "name": "stderr",
     "output_type": "stream",
     "text": [
      "Some weights of BertForSequenceClassification were not initialized from the model checkpoint at bert-base-uncased and are newly initialized: ['classifier.bias', 'classifier.weight']\n",
      "You should probably TRAIN this model on a down-stream task to be able to use it for predictions and inference.\n",
      "c:\\Users\\enric\\Documents\\projects\\play_with_transformers\\.venv\\Lib\\site-packages\\transformers\\training_args.py:1559: FutureWarning: `evaluation_strategy` is deprecated and will be removed in version 4.46 of 🤗 Transformers. Use `eval_strategy` instead\n",
      "  warnings.warn(\n",
      "                                              \n",
      " 10%|█         | 8/80 [00:19<02:37,  2.19s/it]"
     ]
    },
    {
     "name": "stdout",
     "output_type": "stream",
     "text": [
      "{'eval_loss': 0.8828052878379822, 'eval_accuracy': 0.625, 'eval_precision': 0.85, 'eval_recall': 0.625, 'eval_f1': 0.6303571428571428, 'eval_runtime': 0.2653, 'eval_samples_per_second': 30.15, 'eval_steps_per_second': 3.769, 'epoch': 1.0}\n"
     ]
    },
    {
     "name": "stderr",
     "output_type": "stream",
     "text": [
      " 12%|█▎        | 10/80 [00:23<02:25,  2.07s/it]"
     ]
    },
    {
     "name": "stdout",
     "output_type": "stream",
     "text": [
      "{'loss': 0.9949, 'grad_norm': 8.293554306030273, 'learning_rate': 4.375e-05, 'epoch': 1.25}\n"
     ]
    },
    {
     "name": "stderr",
     "output_type": "stream",
     "text": [
      " 20%|██        | 16/80 [00:34<01:59,  1.86s/it]\n",
      " 20%|██        | 16/80 [00:35<01:59,  1.86s/it]"
     ]
    },
    {
     "name": "stdout",
     "output_type": "stream",
     "text": [
      "{'eval_loss': 0.4597586989402771, 'eval_accuracy': 1.0, 'eval_precision': 1.0, 'eval_recall': 1.0, 'eval_f1': 1.0, 'eval_runtime': 0.2415, 'eval_samples_per_second': 33.132, 'eval_steps_per_second': 4.142, 'epoch': 2.0}\n"
     ]
    },
    {
     "name": "stderr",
     "output_type": "stream",
     "text": [
      " 25%|██▌       | 20/80 [00:42<01:57,  1.96s/it]"
     ]
    },
    {
     "name": "stdout",
     "output_type": "stream",
     "text": [
      "{'loss': 0.5256, 'grad_norm': 8.005005836486816, 'learning_rate': 3.7500000000000003e-05, 'epoch': 2.5}\n"
     ]
    },
    {
     "name": "stderr",
     "output_type": "stream",
     "text": [
      " 30%|███       | 24/80 [00:50<01:47,  1.92s/it]\n",
      " 30%|███       | 24/80 [00:50<01:47,  1.92s/it]"
     ]
    },
    {
     "name": "stdout",
     "output_type": "stream",
     "text": [
      "{'eval_loss': 0.1681937873363495, 'eval_accuracy': 1.0, 'eval_precision': 1.0, 'eval_recall': 1.0, 'eval_f1': 1.0, 'eval_runtime': 0.2986, 'eval_samples_per_second': 26.792, 'eval_steps_per_second': 3.349, 'epoch': 3.0}\n"
     ]
    },
    {
     "name": "stderr",
     "output_type": "stream",
     "text": [
      " 38%|███▊      | 30/80 [01:02<01:37,  1.95s/it]"
     ]
    },
    {
     "name": "stdout",
     "output_type": "stream",
     "text": [
      "{'loss': 0.2042, 'grad_norm': 3.780911445617676, 'learning_rate': 3.125e-05, 'epoch': 3.75}\n"
     ]
    },
    {
     "name": "stderr",
     "output_type": "stream",
     "text": [
      " 40%|████      | 32/80 [01:06<01:41,  2.12s/it]\n",
      " 40%|████      | 32/80 [01:07<01:41,  2.12s/it]"
     ]
    },
    {
     "name": "stdout",
     "output_type": "stream",
     "text": [
      "{'eval_loss': 0.06567766517400742, 'eval_accuracy': 1.0, 'eval_precision': 1.0, 'eval_recall': 1.0, 'eval_f1': 1.0, 'eval_runtime': 0.3354, 'eval_samples_per_second': 23.85, 'eval_steps_per_second': 2.981, 'epoch': 4.0}\n"
     ]
    },
    {
     "name": "stderr",
     "output_type": "stream",
     "text": [
      " 50%|█████     | 40/80 [01:24<01:25,  2.13s/it]"
     ]
    },
    {
     "name": "stdout",
     "output_type": "stream",
     "text": [
      "{'loss': 0.0838, 'grad_norm': 1.0667589902877808, 'learning_rate': 2.5e-05, 'epoch': 5.0}\n"
     ]
    },
    {
     "name": "stderr",
     "output_type": "stream",
     "text": [
      "\n",
      " 50%|█████     | 40/80 [01:24<01:25,  2.13s/it]"
     ]
    },
    {
     "name": "stdout",
     "output_type": "stream",
     "text": [
      "{'eval_loss': 0.03519752621650696, 'eval_accuracy': 1.0, 'eval_precision': 1.0, 'eval_recall': 1.0, 'eval_f1': 1.0, 'eval_runtime': 0.3289, 'eval_samples_per_second': 24.324, 'eval_steps_per_second': 3.041, 'epoch': 5.0}\n"
     ]
    },
    {
     "name": "stderr",
     "output_type": "stream",
     "text": [
      " 60%|██████    | 48/80 [01:41<01:06,  2.09s/it]\n",
      " 60%|██████    | 48/80 [01:41<01:06,  2.09s/it]"
     ]
    },
    {
     "name": "stdout",
     "output_type": "stream",
     "text": [
      "{'eval_loss': 0.015720052644610405, 'eval_accuracy': 1.0, 'eval_precision': 1.0, 'eval_recall': 1.0, 'eval_f1': 1.0, 'eval_runtime': 0.3142, 'eval_samples_per_second': 25.459, 'eval_steps_per_second': 3.182, 'epoch': 6.0}\n"
     ]
    },
    {
     "name": "stderr",
     "output_type": "stream",
     "text": [
      " 62%|██████▎   | 50/80 [01:46<01:05,  2.17s/it]"
     ]
    },
    {
     "name": "stdout",
     "output_type": "stream",
     "text": [
      "{'loss': 0.0275, 'grad_norm': 0.3481942415237427, 'learning_rate': 1.8750000000000002e-05, 'epoch': 6.25}\n"
     ]
    },
    {
     "name": "stderr",
     "output_type": "stream",
     "text": [
      " 70%|███████   | 56/80 [02:00<00:58,  2.43s/it]\n",
      " 70%|███████   | 56/80 [02:00<00:58,  2.43s/it]"
     ]
    },
    {
     "name": "stdout",
     "output_type": "stream",
     "text": [
      "{'eval_loss': 0.009631572291254997, 'eval_accuracy': 1.0, 'eval_precision': 1.0, 'eval_recall': 1.0, 'eval_f1': 1.0, 'eval_runtime': 0.4624, 'eval_samples_per_second': 17.301, 'eval_steps_per_second': 2.163, 'epoch': 7.0}\n"
     ]
    },
    {
     "name": "stderr",
     "output_type": "stream",
     "text": [
      " 75%|███████▌  | 60/80 [02:11<00:53,  2.70s/it]"
     ]
    },
    {
     "name": "stdout",
     "output_type": "stream",
     "text": [
      "{'loss': 0.0141, 'grad_norm': 0.20672811567783356, 'learning_rate': 1.25e-05, 'epoch': 7.5}\n"
     ]
    },
    {
     "name": "stderr",
     "output_type": "stream",
     "text": [
      " 80%|████████  | 64/80 [02:22<00:41,  2.62s/it]\n",
      " 80%|████████  | 64/80 [02:22<00:41,  2.62s/it]"
     ]
    },
    {
     "name": "stdout",
     "output_type": "stream",
     "text": [
      "{'eval_loss': 0.007248944137245417, 'eval_accuracy': 1.0, 'eval_precision': 1.0, 'eval_recall': 1.0, 'eval_f1': 1.0, 'eval_runtime': 0.4469, 'eval_samples_per_second': 17.9, 'eval_steps_per_second': 2.238, 'epoch': 8.0}\n"
     ]
    },
    {
     "name": "stderr",
     "output_type": "stream",
     "text": [
      " 88%|████████▊ | 70/80 [02:37<00:24,  2.47s/it]"
     ]
    },
    {
     "name": "stdout",
     "output_type": "stream",
     "text": [
      "{'loss': 0.0096, 'grad_norm': 0.2077576071023941, 'learning_rate': 6.25e-06, 'epoch': 8.75}\n"
     ]
    },
    {
     "name": "stderr",
     "output_type": "stream",
     "text": [
      " 90%|█████████ | 72/80 [02:42<00:19,  2.38s/it]\n",
      " 90%|█████████ | 72/80 [02:42<00:19,  2.38s/it]"
     ]
    },
    {
     "name": "stdout",
     "output_type": "stream",
     "text": [
      "{'eval_loss': 0.006440388038754463, 'eval_accuracy': 1.0, 'eval_precision': 1.0, 'eval_recall': 1.0, 'eval_f1': 1.0, 'eval_runtime': 0.3674, 'eval_samples_per_second': 21.772, 'eval_steps_per_second': 2.721, 'epoch': 9.0}\n"
     ]
    },
    {
     "name": "stderr",
     "output_type": "stream",
     "text": [
      "100%|██████████| 80/80 [02:56<00:00,  1.84s/it]"
     ]
    },
    {
     "name": "stdout",
     "output_type": "stream",
     "text": [
      "{'loss': 0.0083, 'grad_norm': 0.1477527767419815, 'learning_rate': 0.0, 'epoch': 10.0}\n"
     ]
    },
    {
     "name": "stderr",
     "output_type": "stream",
     "text": [
      "                                               \n",
      "100%|██████████| 80/80 [02:59<00:00,  2.24s/it]\n"
     ]
    },
    {
     "name": "stdout",
     "output_type": "stream",
     "text": [
      "{'eval_loss': 0.00618194742128253, 'eval_accuracy': 1.0, 'eval_precision': 1.0, 'eval_recall': 1.0, 'eval_f1': 1.0, 'eval_runtime': 0.2497, 'eval_samples_per_second': 32.042, 'eval_steps_per_second': 4.005, 'epoch': 10.0}\n",
      "{'train_runtime': 179.4024, 'train_samples_per_second': 1.784, 'train_steps_per_second': 0.446, 'train_loss': 0.23349415017291902, 'epoch': 10.0}\n"
     ]
    },
    {
     "name": "stderr",
     "output_type": "stream",
     "text": [
      "100%|██████████| 1/1 [00:00<00:00, 333.36it/s]\n"
     ]
    },
    {
     "name": "stdout",
     "output_type": "stream",
     "text": [
      "Validation Loss: 0.0062\n"
     ]
    },
    {
     "name": "stderr",
     "output_type": "stream",
     "text": [
      "100%|██████████| 2/2 [00:00<00:00, 13.49it/s]c:\\Users\\enric\\Documents\\projects\\play_with_transformers\\.venv\\Lib\\site-packages\\sklearn\\metrics\\_classification.py:1531: UndefinedMetricWarning: Recall is ill-defined and being set to 0.0 in labels with no true samples. Use `zero_division` parameter to control this behavior.\n",
      "  _warn_prf(average, modifier, f\"{metric.capitalize()} is\", len(result))\n",
      "100%|██████████| 2/2 [00:00<00:00, 12.70it/s]"
     ]
    },
    {
     "name": "stdout",
     "output_type": "stream",
     "text": [
      "Text: \"Printhead leaks ink onto the paper.\"\n",
      "Predicted class: printhead\n",
      "---\n",
      "Text: \"Motor starts but then stops immediately.\"\n",
      "Predicted class: motor\n",
      "---\n",
      "Text: \"Unable to scan documents to email.\"\n",
      "Predicted class: other\n",
      "---\n",
      "Text: \"Motor shaft is misaligned and needs adjustment.\"\n",
      "Predicted class: motor\n",
      "---\n",
      "Text: \"Printhead alignment successful but quality is poor.\"\n",
      "Predicted class: printhead\n",
      "---\n",
      "Text: \"Cannot connect to the printer via Bluetooth.\"\n",
      "Predicted class: other\n",
      "---\n",
      "Text: \"Motor overheating error appears after startup.\"\n",
      "Predicted class: motor\n",
      "---\n",
      "Text: \"Printhead produces faded text on the left side.\"\n",
      "Predicted class: printhead\n",
      "---\n",
      "Text: \"Paper feeder is not pulling paper correctly.\"\n",
      "Predicted class: other\n",
      "---\n",
      "Text: \"Motor drive belt snapped during operation.\"\n",
      "Predicted class: motor\n",
      "---\n"
     ]
    },
    {
     "name": "stderr",
     "output_type": "stream",
     "text": [
      "\n"
     ]
    }
   ],
   "source": [
    "# Generate 40 small support cases with labels\n",
    "data = [\n",
    "    {'text': 'The motor is overheating after prolonged use.', 'label': 'motor'},\n",
    "    {'text': 'Printhead alignment is off, causing blurry prints.', 'label': 'printhead'},\n",
    "    {'text': 'The printer shows an unknown error code.', 'label': 'other'},\n",
    "    {'text': 'Motor makes a grinding noise during operation.', 'label': 'motor'},\n",
    "    {'text': 'Printhead nozzles are clogged and need cleaning.', 'label': 'printhead'},\n",
    "    {'text': 'Cannot connect the printer to Wi-Fi.', 'label': 'other'},\n",
    "    {'text': 'Motor fails to start when initiating a print job.', 'label': 'motor'},\n",
    "    {'text': 'Printhead alignment utility fails every time.', 'label': 'printhead'},\n",
    "    {'text': 'Paper jams occur frequently in the tray.', 'label': 'other'},\n",
    "    {'text': 'Motor belt is worn out and slips.', 'label': 'motor'},\n",
    "    {'text': 'Printhead produces streaks across all prints.', 'label': 'printhead'},\n",
    "    {'text': 'The touch screen is unresponsive.', 'label': 'other'},\n",
    "    {'text': 'Motor overheats and shuts down.', 'label': 'motor'},\n",
    "    {'text': 'Printhead is not recognized by the printer.', 'label': 'printhead'},\n",
    "    {'text': 'Printer driver installation fails.', 'label': 'other'},\n",
    "    {'text': 'Motor emits a burning smell during use.', 'label': 'motor'},\n",
    "    {'text': 'Printhead colors are inaccurate and faded.', 'label': 'printhead'},\n",
    "    {'text': 'Cannot update printer firmware.', 'label': 'other'},\n",
    "    {'text': 'Motor vibrates excessively when printing.', 'label': 'motor'},\n",
    "    {'text': 'Printhead cleaning cycle does not complete.', 'label': 'printhead'},\n",
    "    {'text': 'The motor is not responding to commands.', 'label': 'motor'},\n",
    "    {'text': 'Printhead is scratching the paper surface.', 'label': 'printhead'},\n",
    "    {'text': 'Unable to print from mobile devices.', 'label': 'other'},\n",
    "    {'text': 'Motor speed is inconsistent during operation.', 'label': 'motor'},\n",
    "    {'text': 'Printhead calibration fails to improve quality.', 'label': 'printhead'},\n",
    "    {'text': 'Error message says \"cartridge not recognized\".', 'label': 'other'},\n",
    "    {'text': 'Motor bearings are worn out.', 'label': 'motor'},\n",
    "    {'text': 'Printhead drips ink even when idle.', 'label': 'printhead'},\n",
    "    {'text': 'Printer disconnects from network intermittently.', 'label': 'other'},\n",
    "    {'text': 'Motor consumes excessive power.', 'label': 'motor'},\n",
    "    {'text': 'Printhead alignment is perfect but colors are off.', 'label': 'printhead'},\n",
    "    {'text': 'Cannot access printer settings via control panel.', 'label': 'other'},\n",
    "    {'text': 'Motor controller board needs replacement.', 'label': 'motor'},\n",
    "    {'text': 'Printhead cleaning does not resolve smudging.', 'label': 'printhead'},\n",
    "    {'text': 'Printer tray does not hold paper properly.', 'label': 'other'},\n",
    "    {'text': 'Motor makes unusual humming sounds.', 'label': 'motor'},\n",
    "    {'text': 'Printhead requires frequent replacement.', 'label': 'printhead'},\n",
    "    {'text': 'Cannot perform duplex printing.', 'label': 'other'},\n",
    "    {'text': 'Motor wiring harness is damaged.', 'label': 'motor'},\n",
    "    {'text': 'Printhead temperature exceeds normal levels.', 'label': 'printhead'},\n",
    "]\n",
    "\n",
    "# Map labels to integers\n",
    "label_mapping = {'motor': 0, 'printhead': 1, 'other': 2}\n",
    "texts = [item['text'] for item in data]\n",
    "labels = [label_mapping[item['label']] for item in data]\n",
    "\n",
    "# Split data into training and validation sets\n",
    "train_texts, val_texts, train_labels, val_labels = train_test_split(\n",
    "    texts, labels, test_size=0.2, random_state=42, stratify=labels\n",
    ")\n",
    "\n",
    "# Generate 10 test examples for prediction\n",
    "test_data = [\n",
    "    'Printhead leaks ink onto the paper.',\n",
    "    'Motor starts but then stops immediately.',\n",
    "    'Unable to scan documents to email.',\n",
    "    'Motor shaft is misaligned and needs adjustment.',\n",
    "    'Printhead alignment successful but quality is poor.',\n",
    "    'Cannot connect to the printer via Bluetooth.',\n",
    "    'Motor overheating error appears after startup.',\n",
    "    'Printhead produces faded text on the left side.',\n",
    "    'Paper feeder is not pulling paper correctly.',\n",
    "    'Motor drive belt snapped during operation.',\n",
    "]\n",
    "\n",
    "# Load pre-trained BERT tokenizer and model\n",
    "tokenizer = BertTokenizer.from_pretrained('bert-base-uncased')\n",
    "model = BertForSequenceClassification.from_pretrained('bert-base-uncased', num_labels=3)\n",
    "\n",
    "# Tokenize the training and validation data\n",
    "train_encodings = tokenizer(train_texts, truncation=True, padding=True)\n",
    "val_encodings = tokenizer(val_texts, truncation=True, padding=True)\n",
    "\n",
    "# Create a custom Dataset class\n",
    "class SupportCasesDataset(Dataset):\n",
    "    def __init__(self, encodings, labels):\n",
    "        self.encodings = encodings\n",
    "        self.labels = labels\n",
    "    def __getitem__(self, idx):\n",
    "        item = {key: torch.tensor(val[idx]) for key, val in self.encodings.items()}\n",
    "        item['labels'] = torch.tensor(self.labels[idx])\n",
    "        return item\n",
    "    def __len__(self):\n",
    "        return len(self.labels)\n",
    "\n",
    "def compute_metrics(pred):\n",
    "    labels = pred.label_ids\n",
    "    preds = np.argmax(pred.predictions, axis=1)\n",
    "    acc = accuracy_score(labels, preds)\n",
    "    precision, recall, f1, _ = precision_recall_fscore_support(labels, preds, average='weighted')\n",
    "    return {\n",
    "        'accuracy': acc,\n",
    "        'precision': precision,\n",
    "        'recall': recall,\n",
    "        'f1': f1,\n",
    "    }\n",
    "\n",
    "\n",
    "# Prepare the datasets\n",
    "train_dataset = SupportCasesDataset(train_encodings, train_labels)\n",
    "val_dataset = SupportCasesDataset(val_encodings, val_labels)\n",
    "\n",
    "# Define training arguments\n",
    "training_args = TrainingArguments(\n",
    "    output_dir='./results',          # Output directory\n",
    "    num_train_epochs=10,             # Number of training epochs\n",
    "    per_device_train_batch_size=4,   # Batch size per device\n",
    "    evaluation_strategy='epoch',     # Evaluate at each epoch\n",
    "    logging_dir='./logs',            # Logging directory\n",
    "    logging_steps=10,\n",
    "    seed=42,\n",
    ")\n",
    "\n",
    "# Create a Trainer instance\n",
    "trainer = Trainer(\n",
    "    model=model,\n",
    "    args=training_args,\n",
    "    train_dataset=train_dataset,\n",
    "    eval_dataset=val_dataset,\n",
    "    compute_metrics=compute_metrics,\n",
    ")\n",
    "\n",
    "# Train the model\n",
    "trainer.train()\n",
    "\n",
    "# Evaluate the model\n",
    "eval_results = trainer.evaluate()\n",
    "print(f\"Validation Loss: {eval_results['eval_loss']:.4f}\")\n",
    "\n",
    "# Prepare the test data\n",
    "test_encodings = tokenizer(test_data, truncation=True, padding=True)\n",
    "test_dataset = SupportCasesDataset(test_encodings, [0]*len(test_data))  # Dummy labels\n",
    "\n",
    "# Make predictions\n",
    "predictions = trainer.predict(test_dataset)\n",
    "pred_labels = np.argmax(predictions.predictions, axis=1)\n",
    "\n",
    "# Map predicted labels back to class names\n",
    "inv_label_mapping = {v: k for k, v in label_mapping.items()}\n",
    "predicted_classes = [inv_label_mapping[label] for label in pred_labels]\n",
    "\n",
    "# Print the predictions\n",
    "for text, pred_class in zip(test_data, predicted_classes):\n",
    "    print(f'Text: \"{text}\"')\n",
    "    print(f'Predicted class: {pred_class}')\n",
    "    print('---')\n",
    "\n"
   ]
  },
  {
   "cell_type": "code",
   "execution_count": 5,
   "metadata": {},
   "outputs": [
    {
     "name": "stderr",
     "output_type": "stream",
     "text": [
      "100%|██████████| 1/1 [00:00<00:00, 249.50it/s]"
     ]
    },
    {
     "name": "stdout",
     "output_type": "stream",
     "text": [
      "Validation Loss: 0.0062\n",
      "Accuracy: 1.0000\n",
      "Precision: 1.0000\n",
      "Recall: 1.0000\n",
      "F1 Score: 1.0000\n"
     ]
    },
    {
     "name": "stderr",
     "output_type": "stream",
     "text": [
      "\n"
     ]
    }
   ],
   "source": [
    "eval_results = trainer.evaluate()\n",
    "print(f\"Validation Loss: {eval_results['eval_loss']:.4f}\")\n",
    "print(f\"Accuracy: {eval_results['eval_accuracy']:.4f}\")\n",
    "print(f\"Precision: {eval_results['eval_precision']:.4f}\")\n",
    "print(f\"Recall: {eval_results['eval_recall']:.4f}\")\n",
    "print(f\"F1 Score: {eval_results['eval_f1']:.4f}\")"
   ]
  }
 ],
 "metadata": {
  "kernelspec": {
   "display_name": ".venv",
   "language": "python",
   "name": "python3"
  },
  "language_info": {
   "codemirror_mode": {
    "name": "ipython",
    "version": 3
   },
   "file_extension": ".py",
   "mimetype": "text/x-python",
   "name": "python",
   "nbconvert_exporter": "python",
   "pygments_lexer": "ipython3",
   "version": "3.11.8"
  }
 },
 "nbformat": 4,
 "nbformat_minor": 2
}

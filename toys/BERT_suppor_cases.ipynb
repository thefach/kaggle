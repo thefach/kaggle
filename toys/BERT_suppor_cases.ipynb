{
 "cells": [
  {
   "cell_type": "code",
   "execution_count": 7,
   "metadata": {},
   "outputs": [],
   "source": [
    "# Import necessary libraries\n",
    "from transformers import BertTokenizer, BertForSequenceClassification, Trainer, TrainingArguments\n",
    "import torch\n",
    "from torch.utils.data import Dataset\n",
    "import numpy as np\n",
    "from sklearn.model_selection import train_test_split\n",
    "from sklearn.metrics import accuracy_score, precision_recall_fscore_support\n",
    "\n",
    "import warnings\n",
    "warnings.filterwarnings('ignore')"
   ]
  },
  {
   "cell_type": "code",
   "execution_count": 8,
   "metadata": {},
   "outputs": [
    {
     "name": "stderr",
     "output_type": "stream",
     "text": [
      "Some weights of BertForSequenceClassification were not initialized from the model checkpoint at bert-base-uncased and are newly initialized: ['classifier.bias', 'classifier.weight']\n",
      "You should probably TRAIN this model on a down-stream task to be able to use it for predictions and inference.\n",
      "                                              \n",
      " 10%|█         | 8/80 [00:20<02:38,  2.20s/it]"
     ]
    },
    {
     "name": "stdout",
     "output_type": "stream",
     "text": [
      "{'eval_loss': 0.9513572454452515, 'eval_accuracy': 0.375, 'eval_precision': 0.140625, 'eval_recall': 0.375, 'eval_f1': 0.20454545454545453, 'eval_runtime': 0.2674, 'eval_samples_per_second': 29.921, 'eval_steps_per_second': 3.74, 'epoch': 1.0}\n"
     ]
    },
    {
     "name": "stderr",
     "output_type": "stream",
     "text": [
      " 12%|█▎        | 10/80 [00:24<02:24,  2.06s/it]"
     ]
    },
    {
     "name": "stdout",
     "output_type": "stream",
     "text": [
      "{'loss': 1.1078, 'grad_norm': 6.73149299621582, 'learning_rate': 4.375e-05, 'epoch': 1.25}\n"
     ]
    },
    {
     "name": "stderr",
     "output_type": "stream",
     "text": [
      "                                               \n",
      " 20%|██        | 16/80 [00:36<02:03,  1.93s/it]"
     ]
    },
    {
     "name": "stdout",
     "output_type": "stream",
     "text": [
      "{'eval_loss': 0.568408727645874, 'eval_accuracy': 1.0, 'eval_precision': 1.0, 'eval_recall': 1.0, 'eval_f1': 1.0, 'eval_runtime': 0.2411, 'eval_samples_per_second': 33.18, 'eval_steps_per_second': 4.148, 'epoch': 2.0}\n"
     ]
    },
    {
     "name": "stderr",
     "output_type": "stream",
     "text": [
      " 25%|██▌       | 20/80 [00:43<01:50,  1.84s/it]"
     ]
    },
    {
     "name": "stdout",
     "output_type": "stream",
     "text": [
      "{'loss': 0.6887, 'grad_norm': 5.55232048034668, 'learning_rate': 3.7500000000000003e-05, 'epoch': 2.5}\n"
     ]
    },
    {
     "name": "stderr",
     "output_type": "stream",
     "text": [
      "                                               \n",
      " 30%|███       | 24/80 [00:51<01:41,  1.80s/it]"
     ]
    },
    {
     "name": "stdout",
     "output_type": "stream",
     "text": [
      "{'eval_loss': 0.2498229742050171, 'eval_accuracy': 1.0, 'eval_precision': 1.0, 'eval_recall': 1.0, 'eval_f1': 1.0, 'eval_runtime': 0.2734, 'eval_samples_per_second': 29.258, 'eval_steps_per_second': 3.657, 'epoch': 3.0}\n"
     ]
    },
    {
     "name": "stderr",
     "output_type": "stream",
     "text": [
      " 38%|███▊      | 30/80 [01:03<01:34,  1.89s/it]"
     ]
    },
    {
     "name": "stdout",
     "output_type": "stream",
     "text": [
      "{'loss': 0.296, 'grad_norm': 3.5974438190460205, 'learning_rate': 3.125e-05, 'epoch': 3.75}\n"
     ]
    },
    {
     "name": "stderr",
     "output_type": "stream",
     "text": [
      "                                               \n",
      " 40%|████      | 32/80 [01:07<01:29,  1.87s/it]"
     ]
    },
    {
     "name": "stdout",
     "output_type": "stream",
     "text": [
      "{'eval_loss': 0.10514333099126816, 'eval_accuracy': 1.0, 'eval_precision': 1.0, 'eval_recall': 1.0, 'eval_f1': 1.0, 'eval_runtime': 0.2139, 'eval_samples_per_second': 37.404, 'eval_steps_per_second': 4.675, 'epoch': 4.0}\n"
     ]
    },
    {
     "name": "stderr",
     "output_type": "stream",
     "text": [
      " 50%|█████     | 40/80 [01:22<01:20,  2.00s/it]"
     ]
    },
    {
     "name": "stdout",
     "output_type": "stream",
     "text": [
      "{'loss': 0.1025, 'grad_norm': 0.83965003490448, 'learning_rate': 2.5e-05, 'epoch': 5.0}\n"
     ]
    },
    {
     "name": "stderr",
     "output_type": "stream",
     "text": [
      "                                               \n",
      " 50%|█████     | 40/80 [01:22<01:20,  2.00s/it]"
     ]
    },
    {
     "name": "stdout",
     "output_type": "stream",
     "text": [
      "{'eval_loss': 0.04016675055027008, 'eval_accuracy': 1.0, 'eval_precision': 1.0, 'eval_recall': 1.0, 'eval_f1': 1.0, 'eval_runtime': 0.2408, 'eval_samples_per_second': 33.217, 'eval_steps_per_second': 4.152, 'epoch': 5.0}\n"
     ]
    },
    {
     "name": "stderr",
     "output_type": "stream",
     "text": [
      "                                               \n",
      " 60%|██████    | 48/80 [01:37<01:01,  1.91s/it]"
     ]
    },
    {
     "name": "stdout",
     "output_type": "stream",
     "text": [
      "{'eval_loss': 0.016862211748957634, 'eval_accuracy': 1.0, 'eval_precision': 1.0, 'eval_recall': 1.0, 'eval_f1': 1.0, 'eval_runtime': 0.3373, 'eval_samples_per_second': 23.716, 'eval_steps_per_second': 2.965, 'epoch': 6.0}\n"
     ]
    },
    {
     "name": "stderr",
     "output_type": "stream",
     "text": [
      " 62%|██████▎   | 50/80 [01:42<01:01,  2.04s/it]"
     ]
    },
    {
     "name": "stdout",
     "output_type": "stream",
     "text": [
      "{'loss': 0.0305, 'grad_norm': 0.32640528678894043, 'learning_rate': 1.8750000000000002e-05, 'epoch': 6.25}\n"
     ]
    },
    {
     "name": "stderr",
     "output_type": "stream",
     "text": [
      "                                               \n",
      " 70%|███████   | 56/80 [01:53<00:43,  1.83s/it]"
     ]
    },
    {
     "name": "stdout",
     "output_type": "stream",
     "text": [
      "{'eval_loss': 0.010678600519895554, 'eval_accuracy': 1.0, 'eval_precision': 1.0, 'eval_recall': 1.0, 'eval_f1': 1.0, 'eval_runtime': 0.2329, 'eval_samples_per_second': 34.355, 'eval_steps_per_second': 4.294, 'epoch': 7.0}\n"
     ]
    },
    {
     "name": "stderr",
     "output_type": "stream",
     "text": [
      " 75%|███████▌  | 60/80 [02:00<00:35,  1.78s/it]"
     ]
    },
    {
     "name": "stdout",
     "output_type": "stream",
     "text": [
      "{'loss': 0.014, 'grad_norm': 0.2238272875547409, 'learning_rate': 1.25e-05, 'epoch': 7.5}\n"
     ]
    },
    {
     "name": "stderr",
     "output_type": "stream",
     "text": [
      "                                               \n",
      " 80%|████████  | 64/80 [02:08<00:29,  1.85s/it]"
     ]
    },
    {
     "name": "stdout",
     "output_type": "stream",
     "text": [
      "{'eval_loss': 0.00792313925921917, 'eval_accuracy': 1.0, 'eval_precision': 1.0, 'eval_recall': 1.0, 'eval_f1': 1.0, 'eval_runtime': 0.2505, 'eval_samples_per_second': 31.939, 'eval_steps_per_second': 3.992, 'epoch': 8.0}\n"
     ]
    },
    {
     "name": "stderr",
     "output_type": "stream",
     "text": [
      " 88%|████████▊ | 70/80 [02:18<00:17,  1.74s/it]"
     ]
    },
    {
     "name": "stdout",
     "output_type": "stream",
     "text": [
      "{'loss': 0.0102, 'grad_norm': 0.17461290955543518, 'learning_rate': 6.25e-06, 'epoch': 8.75}\n"
     ]
    },
    {
     "name": "stderr",
     "output_type": "stream",
     "text": [
      "                                               \n",
      " 90%|█████████ | 72/80 [02:22<00:14,  1.76s/it]"
     ]
    },
    {
     "name": "stdout",
     "output_type": "stream",
     "text": [
      "{'eval_loss': 0.0068892017006874084, 'eval_accuracy': 1.0, 'eval_precision': 1.0, 'eval_recall': 1.0, 'eval_f1': 1.0, 'eval_runtime': 0.279, 'eval_samples_per_second': 28.67, 'eval_steps_per_second': 3.584, 'epoch': 9.0}\n"
     ]
    },
    {
     "name": "stderr",
     "output_type": "stream",
     "text": [
      "100%|██████████| 80/80 [02:36<00:00,  1.75s/it]"
     ]
    },
    {
     "name": "stdout",
     "output_type": "stream",
     "text": [
      "{'loss': 0.0084, 'grad_norm': 0.16809393465518951, 'learning_rate': 0.0, 'epoch': 10.0}\n"
     ]
    },
    {
     "name": "stderr",
     "output_type": "stream",
     "text": [
      "                                               \n",
      "100%|██████████| 80/80 [02:39<00:00,  1.75s/it]"
     ]
    },
    {
     "name": "stdout",
     "output_type": "stream",
     "text": [
      "{'eval_loss': 0.006617327220737934, 'eval_accuracy': 1.0, 'eval_precision': 1.0, 'eval_recall': 1.0, 'eval_f1': 1.0, 'eval_runtime': 0.2337, 'eval_samples_per_second': 34.238, 'eval_steps_per_second': 4.28, 'epoch': 10.0}\n",
      "{'train_runtime': 160.0717, 'train_samples_per_second': 1.999, 'train_steps_per_second': 0.5, 'train_loss': 0.2822673705406487, 'epoch': 10.0}\n"
     ]
    },
    {
     "name": "stderr",
     "output_type": "stream",
     "text": [
      "100%|██████████| 80/80 [02:40<00:00,  2.01s/it]\n",
      "100%|██████████| 1/1 [00:00<00:00, 10.78it/s]\n"
     ]
    },
    {
     "name": "stdout",
     "output_type": "stream",
     "text": [
      "Validation Loss: 0.0066\n"
     ]
    },
    {
     "name": "stderr",
     "output_type": "stream",
     "text": [
      "100%|██████████| 2/2 [00:00<00:00, 10.00it/s]"
     ]
    },
    {
     "name": "stdout",
     "output_type": "stream",
     "text": [
      "Text: \"Printhead leaks ink onto the paper.\"\n",
      "Predicted class: printhead\n",
      "---\n",
      "Text: \"Motor starts but then stops immediately.\"\n",
      "Predicted class: motor\n",
      "---\n",
      "Text: \"Unable to scan documents to email.\"\n",
      "Predicted class: other\n",
      "---\n",
      "Text: \"Motor shaft is misaligned and needs adjustment.\"\n",
      "Predicted class: motor\n",
      "---\n",
      "Text: \"Printhead alignment successful but quality is poor.\"\n",
      "Predicted class: printhead\n",
      "---\n",
      "Text: \"Cannot connect to the printer via Bluetooth.\"\n",
      "Predicted class: other\n",
      "---\n",
      "Text: \"Motor overheating error appears after startup.\"\n",
      "Predicted class: motor\n",
      "---\n",
      "Text: \"Printhead produces faded text on the left side.\"\n",
      "Predicted class: printhead\n",
      "---\n",
      "Text: \"Paper feeder is not pulling paper correctly.\"\n",
      "Predicted class: other\n",
      "---\n",
      "Text: \"Motor drive belt snapped during operation.\"\n",
      "Predicted class: motor\n",
      "---\n"
     ]
    },
    {
     "name": "stderr",
     "output_type": "stream",
     "text": [
      "\n"
     ]
    }
   ],
   "source": [
    "# Generate 40 small support cases with labels\n",
    "data = [\n",
    "    {'text': 'The motor is overheating after prolonged use.', 'label': 'motor'},\n",
    "    {'text': 'Printhead alignment is off, causing blurry prints.', 'label': 'printhead'},\n",
    "    {'text': 'The printer shows an unknown error code.', 'label': 'other'},\n",
    "    {'text': 'Motor makes a grinding noise during operation.', 'label': 'motor'},\n",
    "    {'text': 'Printhead nozzles are clogged and need cleaning.', 'label': 'printhead'},\n",
    "    {'text': 'Cannot connect the printer to Wi-Fi.', 'label': 'other'},\n",
    "    {'text': 'Motor fails to start when initiating a print job.', 'label': 'motor'},\n",
    "    {'text': 'Printhead alignment utility fails every time.', 'label': 'printhead'},\n",
    "    {'text': 'Paper jams occur frequently in the tray.', 'label': 'other'},\n",
    "    {'text': 'Motor belt is worn out and slips.', 'label': 'motor'},\n",
    "    {'text': 'Printhead produces streaks across all prints.', 'label': 'printhead'},\n",
    "    {'text': 'The touch screen is unresponsive.', 'label': 'other'},\n",
    "    {'text': 'Motor overheats and shuts down.', 'label': 'motor'},\n",
    "    {'text': 'Printhead is not recognized by the printer.', 'label': 'printhead'},\n",
    "    {'text': 'Printer driver installation fails.', 'label': 'other'},\n",
    "    {'text': 'Motor emits a burning smell during use.', 'label': 'motor'},\n",
    "    {'text': 'Printhead colors are inaccurate and faded.', 'label': 'printhead'},\n",
    "    {'text': 'Cannot update printer firmware.', 'label': 'other'},\n",
    "    {'text': 'Motor vibrates excessively when printing.', 'label': 'motor'},\n",
    "    {'text': 'Printhead cleaning cycle does not complete.', 'label': 'printhead'},\n",
    "    {'text': 'The motor is not responding to commands.', 'label': 'motor'},\n",
    "    {'text': 'Printhead is scratching the paper surface.', 'label': 'printhead'},\n",
    "    {'text': 'Unable to print from mobile devices.', 'label': 'other'},\n",
    "    {'text': 'Motor speed is inconsistent during operation.', 'label': 'motor'},\n",
    "    {'text': 'Printhead calibration fails to improve quality.', 'label': 'printhead'},\n",
    "    {'text': 'Error message says \"cartridge not recognized\".', 'label': 'other'},\n",
    "    {'text': 'Motor bearings are worn out.', 'label': 'motor'},\n",
    "    {'text': 'Printhead drips ink even when idle.', 'label': 'printhead'},\n",
    "    {'text': 'Printer disconnects from network intermittently.', 'label': 'other'},\n",
    "    {'text': 'Motor consumes excessive power.', 'label': 'motor'},\n",
    "    {'text': 'Printhead alignment is perfect but colors are off.', 'label': 'printhead'},\n",
    "    {'text': 'Cannot access printer settings via control panel.', 'label': 'other'},\n",
    "    {'text': 'Motor controller board needs replacement.', 'label': 'motor'},\n",
    "    {'text': 'Printhead cleaning does not resolve smudging.', 'label': 'printhead'},\n",
    "    {'text': 'Printer tray does not hold paper properly.', 'label': 'other'},\n",
    "    {'text': 'Motor makes unusual humming sounds.', 'label': 'motor'},\n",
    "    {'text': 'Printhead requires frequent replacement.', 'label': 'printhead'},\n",
    "    {'text': 'Cannot perform duplex printing.', 'label': 'other'},\n",
    "    {'text': 'Motor wiring harness is damaged.', 'label': 'motor'},\n",
    "    {'text': 'Printhead temperature exceeds normal levels.', 'label': 'printhead'},\n",
    "]\n",
    "\n",
    "# Map labels to integers\n",
    "label_mapping = {'motor': 0, 'printhead': 1, 'other': 2}\n",
    "texts = [item['text'] for item in data]\n",
    "labels = [label_mapping[item['label']] for item in data]\n",
    "\n",
    "# Split data into training and validation sets\n",
    "train_texts, val_texts, train_labels, val_labels = train_test_split(\n",
    "    texts, labels, test_size=0.2, random_state=42, stratify=labels\n",
    ")\n",
    "\n",
    "# Generate 10 test examples for prediction\n",
    "test_data = [\n",
    "    'Printhead leaks ink onto the paper.',\n",
    "    'Motor starts but then stops immediately.',\n",
    "    'Unable to scan documents to email.',\n",
    "    'Motor shaft is misaligned and needs adjustment.',\n",
    "    'Printhead alignment successful but quality is poor.',\n",
    "    'Cannot connect to the printer via Bluetooth.',\n",
    "    'Motor overheating error appears after startup.',\n",
    "    'Printhead produces faded text on the left side.',\n",
    "    'Paper feeder is not pulling paper correctly.',\n",
    "    'Motor drive belt snapped during operation.',\n",
    "]\n",
    "\n",
    "# Load pre-trained BERT tokenizer and model\n",
    "tokenizer = BertTokenizer.from_pretrained('bert-base-uncased')\n",
    "model = BertForSequenceClassification.from_pretrained('bert-base-uncased', num_labels=3)\n",
    "\n",
    "# Tokenize the training and validation data\n",
    "train_encodings = tokenizer(train_texts, truncation=True, padding=True)\n",
    "val_encodings = tokenizer(val_texts, truncation=True, padding=True)\n",
    "\n",
    "# Create a custom Dataset class\n",
    "class SupportCasesDataset(Dataset):\n",
    "    def __init__(self, encodings, labels):\n",
    "        self.encodings = encodings\n",
    "        self.labels = labels\n",
    "    def __getitem__(self, idx):\n",
    "        item = {key: torch.tensor(val[idx]) for key, val in self.encodings.items()}\n",
    "        item['labels'] = torch.tensor(self.labels[idx])\n",
    "        return item\n",
    "    def __len__(self):\n",
    "        return len(self.labels)\n",
    "\n",
    "def compute_metrics(pred):\n",
    "    labels = pred.label_ids\n",
    "    preds = np.argmax(pred.predictions, axis=1)\n",
    "    acc = accuracy_score(labels, preds)\n",
    "    precision, recall, f1, _ = precision_recall_fscore_support(labels, preds, average='weighted')\n",
    "    return {\n",
    "        'accuracy': acc,\n",
    "        'precision': precision,\n",
    "        'recall': recall,\n",
    "        'f1': f1,\n",
    "    }\n",
    "\n",
    "\n",
    "# Prepare the datasets\n",
    "train_dataset = SupportCasesDataset(train_encodings, train_labels)\n",
    "val_dataset = SupportCasesDataset(val_encodings, val_labels)\n",
    "\n",
    "# Define training arguments\n",
    "training_args = TrainingArguments(\n",
    "    output_dir='./results',          # Output directory\n",
    "    num_train_epochs=10,             # Number of training epochs\n",
    "    per_device_train_batch_size=4,   # Batch size per device\n",
    "    evaluation_strategy='epoch',     # Evaluate at each epoch\n",
    "    logging_dir='./logs',            # Logging directory\n",
    "    logging_steps=10,\n",
    "    seed=42,\n",
    ")\n",
    "\n",
    "# Create a Trainer instance\n",
    "trainer = Trainer(\n",
    "    model=model,\n",
    "    args=training_args,\n",
    "    train_dataset=train_dataset,\n",
    "    eval_dataset=val_dataset,\n",
    "    compute_metrics=compute_metrics,\n",
    ")\n",
    "\n",
    "# Train the model\n",
    "trainer.train()\n",
    "\n",
    "# Evaluate the model\n",
    "eval_results = trainer.evaluate()\n",
    "print(f\"Validation Loss: {eval_results['eval_loss']:.4f}\")\n",
    "\n",
    "# Prepare the test data\n",
    "test_encodings = tokenizer(test_data, truncation=True, padding=True)\n",
    "test_dataset = SupportCasesDataset(test_encodings, [0]*len(test_data))  # Dummy labels\n",
    "\n",
    "# Make predictions\n",
    "predictions = trainer.predict(test_dataset)\n",
    "pred_labels = np.argmax(predictions.predictions, axis=1)\n",
    "\n",
    "# Map predicted labels back to class names\n",
    "inv_label_mapping = {v: k for k, v in label_mapping.items()}\n",
    "predicted_classes = [inv_label_mapping[label] for label in pred_labels]\n",
    "\n",
    "# Print the predictions\n",
    "for text, pred_class in zip(test_data, predicted_classes):\n",
    "    print(f'Text: \"{text}\"')\n",
    "    print(f'Predicted class: {pred_class}')\n",
    "    print('---')\n",
    "\n"
   ]
  },
  {
   "cell_type": "code",
   "execution_count": 9,
   "metadata": {},
   "outputs": [
    {
     "name": "stderr",
     "output_type": "stream",
     "text": [
      "100%|██████████| 1/1 [00:00<?, ?it/s]"
     ]
    },
    {
     "name": "stdout",
     "output_type": "stream",
     "text": [
      "Validation Loss: 0.0066\n",
      "Accuracy: 1.0000\n",
      "Precision: 1.0000\n",
      "Recall: 1.0000\n",
      "F1 Score: 1.0000\n"
     ]
    },
    {
     "name": "stderr",
     "output_type": "stream",
     "text": [
      "\n"
     ]
    }
   ],
   "source": [
    "eval_results = trainer.evaluate()\n",
    "print(f\"Validation Loss: {eval_results['eval_loss']:.4f}\")\n",
    "print(f\"Accuracy: {eval_results['eval_accuracy']:.4f}\")\n",
    "print(f\"Precision: {eval_results['eval_precision']:.4f}\")\n",
    "print(f\"Recall: {eval_results['eval_recall']:.4f}\")\n",
    "print(f\"F1 Score: {eval_results['eval_f1']:.4f}\")"
   ]
  }
 ],
 "metadata": {
  "kernelspec": {
   "display_name": ".venv",
   "language": "python",
   "name": "python3"
  },
  "language_info": {
   "codemirror_mode": {
    "name": "ipython",
    "version": 3
   },
   "file_extension": ".py",
   "mimetype": "text/x-python",
   "name": "python",
   "nbconvert_exporter": "python",
   "pygments_lexer": "ipython3",
   "version": "3.11.8"
  }
 },
 "nbformat": 4,
 "nbformat_minor": 2
}

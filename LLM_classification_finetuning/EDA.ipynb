{
 "cells": [
  {
   "cell_type": "code",
   "execution_count": 5,
   "metadata": {},
   "outputs": [],
   "source": [
    "import pandas as pd\n",
    "# import sys\n",
    "# print(f\"Running Python: {sys.executable}\")\n",
    "# import os\n",
    "# print(os.getcwd())\n",
    "\n",
    "def get_data():\n",
    "    d_train = pd.read_csv(\"data/train.csv\")\n",
    "    d_test = pd.read_csv(\"data/test.csv\")\n",
    "\n",
    "    return d_train, d_test\n",
    "\n",
    "\n",
    "df_train, df_test = get_data()"
   ]
  }
 ],
 "metadata": {
  "kernelspec": {
   "display_name": ".venv",
   "language": "python",
   "name": "python3"
  },
  "language_info": {
   "codemirror_mode": {
    "name": "ipython",
    "version": 3
   },
   "file_extension": ".py",
   "mimetype": "text/x-python",
   "name": "python",
   "nbconvert_exporter": "python",
   "pygments_lexer": "ipython3",
   "version": "3.11.8"
  }
 },
 "nbformat": 4,
 "nbformat_minor": 2
}

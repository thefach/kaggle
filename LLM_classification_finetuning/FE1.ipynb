{
 "cells": [
  {
   "cell_type": "markdown",
   "metadata": {},
   "source": [
    "# FE 1"
   ]
  },
  {
   "cell_type": "code",
   "execution_count": 38,
   "metadata": {},
   "outputs": [],
   "source": [
    "# imports\n",
    "\n",
    "import pandas as pd\n",
    "# import sys\n",
    "# print(f\"Running Python: {sys.executable}\")\n",
    "# import os\n",
    "# print(os.getcwd())\n"
   ]
  },
  {
   "cell_type": "code",
   "execution_count": 39,
   "metadata": {},
   "outputs": [],
   "source": [
    "# custom packages imports\n",
    "import get_data as gd\n",
    "import preprocessing\n",
    "from paremeters import PARAM \n"
   ]
  },
  {
   "cell_type": "code",
   "execution_count": null,
   "metadata": {},
   "outputs": [],
   "source": [
    "df_train, df_test = gd.get_data()\n",
    "df = preprocessing.get_exploded_df(df_train)\n",
    "df = preprocessing.label_encoding(df)"
   ]
  },
  {
   "cell_type": "code",
   "execution_count": null,
   "metadata": {},
   "outputs": [
    {
     "name": "stdout",
     "output_type": "stream",
     "text": [
      "<class 'pandas.core.frame.DataFrame'>\n",
      "RangeIndex: 71514 entries, 0 to 71513\n",
      "Data columns (total 11 columns):\n",
      " #   Column          Non-Null Count  Dtype \n",
      "---  ------          --------------  ----- \n",
      " 0   id              71514 non-null  int64 \n",
      " 1   model_a         71514 non-null  object\n",
      " 2   model_b         71514 non-null  object\n",
      " 3   prompt          71514 non-null  object\n",
      " 4   response_a      71394 non-null  object\n",
      " 5   response_b      71388 non-null  object\n",
      " 6   winner_model_a  71514 non-null  int64 \n",
      " 7   winner_model_b  71514 non-null  int64 \n",
      " 8   winner_tie      71514 non-null  int64 \n",
      " 9   class_name      71514 non-null  object\n",
      " 10  class_label     71514 non-null  int64 \n",
      "dtypes: int64(5), object(6)\n",
      "memory usage: 6.0+ MB\n"
     ]
    }
   ],
   "source": [
    "df.info()"
   ]
  }
 ],
 "metadata": {
  "kernelspec": {
   "display_name": ".venv",
   "language": "python",
   "name": "python3"
  },
  "language_info": {
   "codemirror_mode": {
    "name": "ipython",
    "version": 3
   },
   "file_extension": ".py",
   "mimetype": "text/x-python",
   "name": "python",
   "nbconvert_exporter": "python",
   "pygments_lexer": "ipython3",
   "version": "3.11.8"
  }
 },
 "nbformat": 4,
 "nbformat_minor": 2
}

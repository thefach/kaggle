{
 "cells": [
  {
   "cell_type": "markdown",
   "metadata": {},
   "source": [
    "# Using ALBERT to classify text"
   ]
  },
  {
   "cell_type": "code",
   "execution_count": 8,
   "metadata": {},
   "outputs": [
    {
     "name": "stdout",
     "output_type": "stream",
     "text": [
      "Collecting keras\n",
      "  Downloading keras-3.6.0-py3-none-any.whl.metadata (5.8 kB)\n",
      "Requirement already satisfied: absl-py in /Users/Silvia/Desktop/kaggle_project/kaggle/.venv/lib/python3.11/site-packages (from keras) (2.1.0)\n",
      "Requirement already satisfied: numpy in /Users/Silvia/Desktop/kaggle_project/kaggle/.venv/lib/python3.11/site-packages (from keras) (2.1.2)\n",
      "Requirement already satisfied: rich in /Users/Silvia/Desktop/kaggle_project/kaggle/.venv/lib/python3.11/site-packages (from keras) (13.9.4)\n",
      "Collecting namex (from keras)\n",
      "  Downloading namex-0.0.8-py3-none-any.whl.metadata (246 bytes)\n",
      "Collecting h5py (from keras)\n",
      "  Downloading h5py-3.12.1-cp311-cp311-macosx_10_9_x86_64.whl.metadata (2.5 kB)\n",
      "Collecting optree (from keras)\n",
      "  Downloading optree-0.13.1-cp311-cp311-macosx_10_9_universal2.whl.metadata (47 kB)\n",
      "Collecting ml-dtypes (from keras)\n",
      "  Downloading ml_dtypes-0.5.0-cp311-cp311-macosx_10_9_universal2.whl.metadata (21 kB)\n",
      "Requirement already satisfied: packaging in /Users/Silvia/Desktop/kaggle_project/kaggle/.venv/lib/python3.11/site-packages (from keras) (24.1)\n",
      "Requirement already satisfied: typing-extensions>=4.5.0 in /Users/Silvia/Desktop/kaggle_project/kaggle/.venv/lib/python3.11/site-packages (from optree->keras) (4.12.2)\n",
      "Requirement already satisfied: markdown-it-py>=2.2.0 in /Users/Silvia/Desktop/kaggle_project/kaggle/.venv/lib/python3.11/site-packages (from rich->keras) (3.0.0)\n",
      "Requirement already satisfied: pygments<3.0.0,>=2.13.0 in /Users/Silvia/Desktop/kaggle_project/kaggle/.venv/lib/python3.11/site-packages (from rich->keras) (2.18.0)\n",
      "Requirement already satisfied: mdurl~=0.1 in /Users/Silvia/Desktop/kaggle_project/kaggle/.venv/lib/python3.11/site-packages (from markdown-it-py>=2.2.0->rich->keras) (0.1.2)\n",
      "Downloading keras-3.6.0-py3-none-any.whl (1.2 MB)\n",
      "\u001b[2K   \u001b[90m━━━━━━━━━━━━━━━━━━━━━━━━━━━━━━━━━━━━━━━━\u001b[0m \u001b[32m1.2/1.2 MB\u001b[0m \u001b[31m17.2 MB/s\u001b[0m eta \u001b[36m0:00:00\u001b[0m\n",
      "\u001b[?25hDownloading h5py-3.12.1-cp311-cp311-macosx_10_9_x86_64.whl (3.4 MB)\n",
      "\u001b[2K   \u001b[90m━━━━━━━━━━━━━━━━━━━━━━━━━━━━━━━━━━━━━━━━\u001b[0m \u001b[32m3.4/3.4 MB\u001b[0m \u001b[31m41.5 MB/s\u001b[0m eta \u001b[36m0:00:00\u001b[0m\n",
      "\u001b[?25hDownloading ml_dtypes-0.5.0-cp311-cp311-macosx_10_9_universal2.whl (736 kB)\n",
      "\u001b[2K   \u001b[90m━━━━━━━━━━━━━━━━━━━━━━━━━━━━━━━━━━━━━━━━\u001b[0m \u001b[32m736.8/736.8 kB\u001b[0m \u001b[31m20.4 MB/s\u001b[0m eta \u001b[36m0:00:00\u001b[0m\n",
      "\u001b[?25hDownloading namex-0.0.8-py3-none-any.whl (5.8 kB)\n",
      "Downloading optree-0.13.1-cp311-cp311-macosx_10_9_universal2.whl (589 kB)\n",
      "\u001b[2K   \u001b[90m━━━━━━━━━━━━━━━━━━━━━━━━━━━━━━━━━━━━━━━━\u001b[0m \u001b[32m589.6/589.6 kB\u001b[0m \u001b[31m16.0 MB/s\u001b[0m eta \u001b[36m0:00:00\u001b[0m\n",
      "\u001b[?25hInstalling collected packages: namex, optree, ml-dtypes, h5py, keras\n",
      "Successfully installed h5py-3.12.1 keras-3.6.0 ml-dtypes-0.5.0 namex-0.0.8 optree-0.13.1\n",
      "Note: you may need to restart the kernel to use updated packages.\n"
     ]
    }
   ],
   "source": [
    "pip install keras"
   ]
  },
  {
   "cell_type": "code",
   "execution_count": 9,
   "metadata": {},
   "outputs": [
    {
     "name": "stdout",
     "output_type": "stream",
     "text": [
      "Requirement already satisfied: keras_hub in /Users/Silvia/Desktop/kaggle_project/kaggle/.venv/lib/python3.11/site-packages (0.17.0)\n",
      "Requirement already satisfied: absl-py in /Users/Silvia/Desktop/kaggle_project/kaggle/.venv/lib/python3.11/site-packages (from keras_hub) (2.1.0)\n",
      "Requirement already satisfied: numpy in /Users/Silvia/Desktop/kaggle_project/kaggle/.venv/lib/python3.11/site-packages (from keras_hub) (2.1.2)\n",
      "Requirement already satisfied: packaging in /Users/Silvia/Desktop/kaggle_project/kaggle/.venv/lib/python3.11/site-packages (from keras_hub) (24.1)\n",
      "Requirement already satisfied: regex in /Users/Silvia/Desktop/kaggle_project/kaggle/.venv/lib/python3.11/site-packages (from keras_hub) (2024.11.6)\n",
      "Requirement already satisfied: rich in /Users/Silvia/Desktop/kaggle_project/kaggle/.venv/lib/python3.11/site-packages (from keras_hub) (13.9.4)\n",
      "Requirement already satisfied: kagglehub in /Users/Silvia/Desktop/kaggle_project/kaggle/.venv/lib/python3.11/site-packages (from keras_hub) (0.3.4)\n",
      "Requirement already satisfied: requests in /Users/Silvia/Desktop/kaggle_project/kaggle/.venv/lib/python3.11/site-packages (from kagglehub->keras_hub) (2.32.3)\n",
      "Requirement already satisfied: tqdm in /Users/Silvia/Desktop/kaggle_project/kaggle/.venv/lib/python3.11/site-packages (from kagglehub->keras_hub) (4.66.5)\n",
      "Requirement already satisfied: markdown-it-py>=2.2.0 in /Users/Silvia/Desktop/kaggle_project/kaggle/.venv/lib/python3.11/site-packages (from rich->keras_hub) (3.0.0)\n",
      "Requirement already satisfied: pygments<3.0.0,>=2.13.0 in /Users/Silvia/Desktop/kaggle_project/kaggle/.venv/lib/python3.11/site-packages (from rich->keras_hub) (2.18.0)\n",
      "Requirement already satisfied: mdurl~=0.1 in /Users/Silvia/Desktop/kaggle_project/kaggle/.venv/lib/python3.11/site-packages (from markdown-it-py>=2.2.0->rich->keras_hub) (0.1.2)\n",
      "Requirement already satisfied: charset-normalizer<4,>=2 in /Users/Silvia/Desktop/kaggle_project/kaggle/.venv/lib/python3.11/site-packages (from requests->kagglehub->keras_hub) (3.4.0)\n",
      "Requirement already satisfied: idna<4,>=2.5 in /Users/Silvia/Desktop/kaggle_project/kaggle/.venv/lib/python3.11/site-packages (from requests->kagglehub->keras_hub) (3.10)\n",
      "Requirement already satisfied: urllib3<3,>=1.21.1 in /Users/Silvia/Desktop/kaggle_project/kaggle/.venv/lib/python3.11/site-packages (from requests->kagglehub->keras_hub) (2.2.3)\n",
      "Requirement already satisfied: certifi>=2017.4.17 in /Users/Silvia/Desktop/kaggle_project/kaggle/.venv/lib/python3.11/site-packages (from requests->kagglehub->keras_hub) (2024.8.30)\n",
      "Note: you may need to restart the kernel to use updated packages.\n"
     ]
    }
   ],
   "source": [
    "pip install keras_hub"
   ]
  },
  {
   "cell_type": "code",
   "execution_count": 12,
   "metadata": {},
   "outputs": [
    {
     "name": "stdout",
     "output_type": "stream",
     "text": [
      "Collecting tensorflow\n",
      "  Downloading tensorflow-2.16.2-cp311-cp311-macosx_10_15_x86_64.whl.metadata (4.1 kB)\n",
      "Requirement already satisfied: absl-py>=1.0.0 in /Users/Silvia/Desktop/kaggle_project/kaggle/.venv/lib/python3.11/site-packages (from tensorflow) (2.1.0)\n",
      "Collecting astunparse>=1.6.0 (from tensorflow)\n",
      "  Downloading astunparse-1.6.3-py2.py3-none-any.whl.metadata (4.4 kB)\n",
      "Collecting flatbuffers>=23.5.26 (from tensorflow)\n",
      "  Downloading flatbuffers-24.3.25-py2.py3-none-any.whl.metadata (850 bytes)\n",
      "Collecting gast!=0.5.0,!=0.5.1,!=0.5.2,>=0.2.1 (from tensorflow)\n",
      "  Downloading gast-0.6.0-py3-none-any.whl.metadata (1.3 kB)\n",
      "Collecting google-pasta>=0.1.1 (from tensorflow)\n",
      "  Downloading google_pasta-0.2.0-py3-none-any.whl.metadata (814 bytes)\n",
      "Requirement already satisfied: h5py>=3.10.0 in /Users/Silvia/Desktop/kaggle_project/kaggle/.venv/lib/python3.11/site-packages (from tensorflow) (3.12.1)\n",
      "Collecting libclang>=13.0.0 (from tensorflow)\n",
      "  Downloading libclang-18.1.1-py2.py3-none-macosx_10_9_x86_64.whl.metadata (5.2 kB)\n",
      "Collecting ml-dtypes~=0.3.1 (from tensorflow)\n",
      "  Downloading ml_dtypes-0.3.2-cp311-cp311-macosx_10_9_universal2.whl.metadata (20 kB)\n",
      "Collecting opt-einsum>=2.3.2 (from tensorflow)\n",
      "  Downloading opt_einsum-3.4.0-py3-none-any.whl.metadata (6.3 kB)\n",
      "Requirement already satisfied: packaging in /Users/Silvia/Desktop/kaggle_project/kaggle/.venv/lib/python3.11/site-packages (from tensorflow) (24.1)\n",
      "Collecting protobuf!=4.21.0,!=4.21.1,!=4.21.2,!=4.21.3,!=4.21.4,!=4.21.5,<5.0.0dev,>=3.20.3 (from tensorflow)\n",
      "  Downloading protobuf-4.25.5-cp37-abi3-macosx_10_9_universal2.whl.metadata (541 bytes)\n",
      "Requirement already satisfied: requests<3,>=2.21.0 in /Users/Silvia/Desktop/kaggle_project/kaggle/.venv/lib/python3.11/site-packages (from tensorflow) (2.32.3)\n",
      "Requirement already satisfied: setuptools in /Users/Silvia/Desktop/kaggle_project/kaggle/.venv/lib/python3.11/site-packages (from tensorflow) (65.5.0)\n",
      "Requirement already satisfied: six>=1.12.0 in /Users/Silvia/Desktop/kaggle_project/kaggle/.venv/lib/python3.11/site-packages (from tensorflow) (1.16.0)\n",
      "Collecting termcolor>=1.1.0 (from tensorflow)\n",
      "  Downloading termcolor-2.5.0-py3-none-any.whl.metadata (6.1 kB)\n",
      "Requirement already satisfied: typing-extensions>=3.6.6 in /Users/Silvia/Desktop/kaggle_project/kaggle/.venv/lib/python3.11/site-packages (from tensorflow) (4.12.2)\n",
      "Collecting wrapt>=1.11.0 (from tensorflow)\n",
      "  Downloading wrapt-1.16.0-cp311-cp311-macosx_10_9_x86_64.whl.metadata (6.6 kB)\n",
      "Collecting grpcio<2.0,>=1.24.3 (from tensorflow)\n",
      "  Downloading grpcio-1.67.1-cp311-cp311-macosx_10_9_universal2.whl.metadata (3.9 kB)\n",
      "Collecting tensorboard<2.17,>=2.16 (from tensorflow)\n",
      "  Downloading tensorboard-2.16.2-py3-none-any.whl.metadata (1.6 kB)\n",
      "Requirement already satisfied: keras>=3.0.0 in /Users/Silvia/Desktop/kaggle_project/kaggle/.venv/lib/python3.11/site-packages (from tensorflow) (3.6.0)\n",
      "Collecting tensorflow-io-gcs-filesystem>=0.23.1 (from tensorflow)\n",
      "  Downloading tensorflow_io_gcs_filesystem-0.37.1-cp311-cp311-macosx_10_14_x86_64.whl.metadata (14 kB)\n",
      "Collecting numpy<2.0.0,>=1.23.5 (from tensorflow)\n",
      "  Downloading numpy-1.26.4-cp311-cp311-macosx_10_9_x86_64.whl.metadata (61 kB)\n",
      "Collecting wheel<1.0,>=0.23.0 (from astunparse>=1.6.0->tensorflow)\n",
      "  Downloading wheel-0.45.0-py3-none-any.whl.metadata (2.3 kB)\n",
      "Requirement already satisfied: rich in /Users/Silvia/Desktop/kaggle_project/kaggle/.venv/lib/python3.11/site-packages (from keras>=3.0.0->tensorflow) (13.9.4)\n",
      "Requirement already satisfied: namex in /Users/Silvia/Desktop/kaggle_project/kaggle/.venv/lib/python3.11/site-packages (from keras>=3.0.0->tensorflow) (0.0.8)\n",
      "Requirement already satisfied: optree in /Users/Silvia/Desktop/kaggle_project/kaggle/.venv/lib/python3.11/site-packages (from keras>=3.0.0->tensorflow) (0.13.1)\n",
      "Requirement already satisfied: charset-normalizer<4,>=2 in /Users/Silvia/Desktop/kaggle_project/kaggle/.venv/lib/python3.11/site-packages (from requests<3,>=2.21.0->tensorflow) (3.4.0)\n",
      "Requirement already satisfied: idna<4,>=2.5 in /Users/Silvia/Desktop/kaggle_project/kaggle/.venv/lib/python3.11/site-packages (from requests<3,>=2.21.0->tensorflow) (3.10)\n",
      "Requirement already satisfied: urllib3<3,>=1.21.1 in /Users/Silvia/Desktop/kaggle_project/kaggle/.venv/lib/python3.11/site-packages (from requests<3,>=2.21.0->tensorflow) (2.2.3)\n",
      "Requirement already satisfied: certifi>=2017.4.17 in /Users/Silvia/Desktop/kaggle_project/kaggle/.venv/lib/python3.11/site-packages (from requests<3,>=2.21.0->tensorflow) (2024.8.30)\n",
      "Collecting markdown>=2.6.8 (from tensorboard<2.17,>=2.16->tensorflow)\n",
      "  Downloading Markdown-3.7-py3-none-any.whl.metadata (7.0 kB)\n",
      "Collecting tensorboard-data-server<0.8.0,>=0.7.0 (from tensorboard<2.17,>=2.16->tensorflow)\n",
      "  Downloading tensorboard_data_server-0.7.2-py3-none-macosx_10_9_x86_64.whl.metadata (1.1 kB)\n",
      "Collecting werkzeug>=1.0.1 (from tensorboard<2.17,>=2.16->tensorflow)\n",
      "  Downloading werkzeug-3.1.3-py3-none-any.whl.metadata (3.7 kB)\n",
      "Collecting MarkupSafe>=2.1.1 (from werkzeug>=1.0.1->tensorboard<2.17,>=2.16->tensorflow)\n",
      "  Downloading MarkupSafe-3.0.2-cp311-cp311-macosx_10_9_universal2.whl.metadata (4.0 kB)\n",
      "Requirement already satisfied: markdown-it-py>=2.2.0 in /Users/Silvia/Desktop/kaggle_project/kaggle/.venv/lib/python3.11/site-packages (from rich->keras>=3.0.0->tensorflow) (3.0.0)\n",
      "Requirement already satisfied: pygments<3.0.0,>=2.13.0 in /Users/Silvia/Desktop/kaggle_project/kaggle/.venv/lib/python3.11/site-packages (from rich->keras>=3.0.0->tensorflow) (2.18.0)\n",
      "Requirement already satisfied: mdurl~=0.1 in /Users/Silvia/Desktop/kaggle_project/kaggle/.venv/lib/python3.11/site-packages (from markdown-it-py>=2.2.0->rich->keras>=3.0.0->tensorflow) (0.1.2)\n",
      "Downloading tensorflow-2.16.2-cp311-cp311-macosx_10_15_x86_64.whl (259.6 MB)\n",
      "\u001b[2K   \u001b[90m━━━━━━━━━━━━━━━━━━━━━━━━━━━━━━━━━━━━━━━━\u001b[0m \u001b[32m259.6/259.6 MB\u001b[0m \u001b[31m54.9 MB/s\u001b[0m eta \u001b[36m0:00:00\u001b[0m00:01\u001b[0m00:01\u001b[0m\n",
      "\u001b[?25hDownloading astunparse-1.6.3-py2.py3-none-any.whl (12 kB)\n",
      "Downloading flatbuffers-24.3.25-py2.py3-none-any.whl (26 kB)\n",
      "Downloading gast-0.6.0-py3-none-any.whl (21 kB)\n",
      "Downloading google_pasta-0.2.0-py3-none-any.whl (57 kB)\n",
      "Downloading grpcio-1.67.1-cp311-cp311-macosx_10_9_universal2.whl (11.0 MB)\n",
      "\u001b[2K   \u001b[90m━━━━━━━━━━━━━━━━━━━━━━━━━━━━━━━━━━━━━━━━\u001b[0m \u001b[32m11.0/11.0 MB\u001b[0m \u001b[31m21.3 MB/s\u001b[0m eta \u001b[36m0:00:00\u001b[0ma \u001b[36m0:00:01\u001b[0m\n",
      "\u001b[?25hDownloading libclang-18.1.1-py2.py3-none-macosx_10_9_x86_64.whl (26.5 MB)\n",
      "\u001b[2K   \u001b[90m━━━━━━━━━━━━━━━━━━━━━━━━━━━━━━━━━━━━━━━━\u001b[0m \u001b[32m26.5/26.5 MB\u001b[0m \u001b[31m48.1 MB/s\u001b[0m eta \u001b[36m0:00:00\u001b[0m00:01\u001b[0m00:01\u001b[0m\n",
      "\u001b[?25hDownloading ml_dtypes-0.3.2-cp311-cp311-macosx_10_9_universal2.whl (389 kB)\n",
      "Downloading numpy-1.26.4-cp311-cp311-macosx_10_9_x86_64.whl (20.6 MB)\n",
      "\u001b[2K   \u001b[90m━━━━━━━━━━━━━━━━━━━━━━━━━━━━━━━━━━━━━━━━\u001b[0m \u001b[32m20.6/20.6 MB\u001b[0m \u001b[31m55.4 MB/s\u001b[0m eta \u001b[36m0:00:00\u001b[0ma \u001b[36m0:00:01\u001b[0m\n",
      "\u001b[?25hDownloading opt_einsum-3.4.0-py3-none-any.whl (71 kB)\n",
      "Downloading protobuf-4.25.5-cp37-abi3-macosx_10_9_universal2.whl (394 kB)\n",
      "Downloading tensorboard-2.16.2-py3-none-any.whl (5.5 MB)\n",
      "\u001b[2K   \u001b[90m━━━━━━━━━━━━━━━━━━━━━━━━━━━━━━━━━━━━━━━━\u001b[0m \u001b[32m5.5/5.5 MB\u001b[0m \u001b[31m45.8 MB/s\u001b[0m eta \u001b[36m0:00:00\u001b[0m\n",
      "\u001b[?25hDownloading tensorflow_io_gcs_filesystem-0.37.1-cp311-cp311-macosx_10_14_x86_64.whl (2.5 MB)\n",
      "\u001b[2K   \u001b[90m━━━━━━━━━━━━━━━━━━━━━━━━━━━━━━━━━━━━━━━━\u001b[0m \u001b[32m2.5/2.5 MB\u001b[0m \u001b[31m36.6 MB/s\u001b[0m eta \u001b[36m0:00:00\u001b[0m\n",
      "\u001b[?25hDownloading termcolor-2.5.0-py3-none-any.whl (7.8 kB)\n",
      "Downloading wrapt-1.16.0-cp311-cp311-macosx_10_9_x86_64.whl (37 kB)\n",
      "Downloading Markdown-3.7-py3-none-any.whl (106 kB)\n",
      "Downloading tensorboard_data_server-0.7.2-py3-none-macosx_10_9_x86_64.whl (4.8 MB)\n",
      "\u001b[2K   \u001b[90m━━━━━━━━━━━━━━━━━━━━━━━━━━━━━━━━━━━━━━━━\u001b[0m \u001b[32m4.8/4.8 MB\u001b[0m \u001b[31m50.4 MB/s\u001b[0m eta \u001b[36m0:00:00\u001b[0m\n",
      "\u001b[?25hDownloading werkzeug-3.1.3-py3-none-any.whl (224 kB)\n",
      "Downloading wheel-0.45.0-py3-none-any.whl (72 kB)\n",
      "Downloading MarkupSafe-3.0.2-cp311-cp311-macosx_10_9_universal2.whl (14 kB)\n",
      "Installing collected packages: libclang, flatbuffers, wrapt, wheel, termcolor, tensorflow-io-gcs-filesystem, tensorboard-data-server, protobuf, opt-einsum, numpy, MarkupSafe, markdown, grpcio, google-pasta, gast, werkzeug, ml-dtypes, astunparse, tensorboard, tensorflow\n",
      "  Attempting uninstall: numpy\n",
      "    Found existing installation: numpy 2.1.2\n",
      "    Uninstalling numpy-2.1.2:\n",
      "      Successfully uninstalled numpy-2.1.2\n",
      "  Attempting uninstall: ml-dtypes\n",
      "    Found existing installation: ml_dtypes 0.5.0\n",
      "    Uninstalling ml_dtypes-0.5.0:\n",
      "      Successfully uninstalled ml_dtypes-0.5.0\n",
      "Successfully installed MarkupSafe-3.0.2 astunparse-1.6.3 flatbuffers-24.3.25 gast-0.6.0 google-pasta-0.2.0 grpcio-1.67.1 libclang-18.1.1 markdown-3.7 ml-dtypes-0.3.2 numpy-1.26.4 opt-einsum-3.4.0 protobuf-4.25.5 tensorboard-2.16.2 tensorboard-data-server-0.7.2 tensorflow-2.16.2 tensorflow-io-gcs-filesystem-0.37.1 termcolor-2.5.0 werkzeug-3.1.3 wheel-0.45.0 wrapt-1.16.0\n",
      "Note: you may need to restart the kernel to use updated packages.\n"
     ]
    }
   ],
   "source": [
    "pip install tensorflow"
   ]
  },
  {
   "cell_type": "code",
   "execution_count": 3,
   "metadata": {},
   "outputs": [
    {
     "name": "stdout",
     "output_type": "stream",
     "text": [
      "Collecting tensorflow-text\n",
      "  Downloading tensorflow_text-2.16.1-cp311-cp311-macosx_10_9_x86_64.whl.metadata (2.0 kB)\n",
      "Requirement already satisfied: tensorflow<2.17,>=2.16.1 in /Users/Silvia/Desktop/kaggle_project/kaggle/.venv/lib/python3.11/site-packages (from tensorflow-text) (2.16.2)\n",
      "Requirement already satisfied: absl-py>=1.0.0 in /Users/Silvia/Desktop/kaggle_project/kaggle/.venv/lib/python3.11/site-packages (from tensorflow<2.17,>=2.16.1->tensorflow-text) (2.1.0)\n",
      "Requirement already satisfied: astunparse>=1.6.0 in /Users/Silvia/Desktop/kaggle_project/kaggle/.venv/lib/python3.11/site-packages (from tensorflow<2.17,>=2.16.1->tensorflow-text) (1.6.3)\n",
      "Requirement already satisfied: flatbuffers>=23.5.26 in /Users/Silvia/Desktop/kaggle_project/kaggle/.venv/lib/python3.11/site-packages (from tensorflow<2.17,>=2.16.1->tensorflow-text) (24.3.25)\n",
      "Requirement already satisfied: gast!=0.5.0,!=0.5.1,!=0.5.2,>=0.2.1 in /Users/Silvia/Desktop/kaggle_project/kaggle/.venv/lib/python3.11/site-packages (from tensorflow<2.17,>=2.16.1->tensorflow-text) (0.6.0)\n",
      "Requirement already satisfied: google-pasta>=0.1.1 in /Users/Silvia/Desktop/kaggle_project/kaggle/.venv/lib/python3.11/site-packages (from tensorflow<2.17,>=2.16.1->tensorflow-text) (0.2.0)\n",
      "Requirement already satisfied: h5py>=3.10.0 in /Users/Silvia/Desktop/kaggle_project/kaggle/.venv/lib/python3.11/site-packages (from tensorflow<2.17,>=2.16.1->tensorflow-text) (3.12.1)\n",
      "Requirement already satisfied: libclang>=13.0.0 in /Users/Silvia/Desktop/kaggle_project/kaggle/.venv/lib/python3.11/site-packages (from tensorflow<2.17,>=2.16.1->tensorflow-text) (18.1.1)\n",
      "Requirement already satisfied: ml-dtypes~=0.3.1 in /Users/Silvia/Desktop/kaggle_project/kaggle/.venv/lib/python3.11/site-packages (from tensorflow<2.17,>=2.16.1->tensorflow-text) (0.3.2)\n",
      "Requirement already satisfied: opt-einsum>=2.3.2 in /Users/Silvia/Desktop/kaggle_project/kaggle/.venv/lib/python3.11/site-packages (from tensorflow<2.17,>=2.16.1->tensorflow-text) (3.4.0)\n",
      "Requirement already satisfied: packaging in /Users/Silvia/Desktop/kaggle_project/kaggle/.venv/lib/python3.11/site-packages (from tensorflow<2.17,>=2.16.1->tensorflow-text) (24.1)\n",
      "Requirement already satisfied: protobuf!=4.21.0,!=4.21.1,!=4.21.2,!=4.21.3,!=4.21.4,!=4.21.5,<5.0.0dev,>=3.20.3 in /Users/Silvia/Desktop/kaggle_project/kaggle/.venv/lib/python3.11/site-packages (from tensorflow<2.17,>=2.16.1->tensorflow-text) (4.25.5)\n",
      "Requirement already satisfied: requests<3,>=2.21.0 in /Users/Silvia/Desktop/kaggle_project/kaggle/.venv/lib/python3.11/site-packages (from tensorflow<2.17,>=2.16.1->tensorflow-text) (2.32.3)\n",
      "Requirement already satisfied: setuptools in /Users/Silvia/Desktop/kaggle_project/kaggle/.venv/lib/python3.11/site-packages (from tensorflow<2.17,>=2.16.1->tensorflow-text) (65.5.0)\n",
      "Requirement already satisfied: six>=1.12.0 in /Users/Silvia/Desktop/kaggle_project/kaggle/.venv/lib/python3.11/site-packages (from tensorflow<2.17,>=2.16.1->tensorflow-text) (1.16.0)\n",
      "Requirement already satisfied: termcolor>=1.1.0 in /Users/Silvia/Desktop/kaggle_project/kaggle/.venv/lib/python3.11/site-packages (from tensorflow<2.17,>=2.16.1->tensorflow-text) (2.5.0)\n",
      "Requirement already satisfied: typing-extensions>=3.6.6 in /Users/Silvia/Desktop/kaggle_project/kaggle/.venv/lib/python3.11/site-packages (from tensorflow<2.17,>=2.16.1->tensorflow-text) (4.12.2)\n",
      "Requirement already satisfied: wrapt>=1.11.0 in /Users/Silvia/Desktop/kaggle_project/kaggle/.venv/lib/python3.11/site-packages (from tensorflow<2.17,>=2.16.1->tensorflow-text) (1.16.0)\n",
      "Requirement already satisfied: grpcio<2.0,>=1.24.3 in /Users/Silvia/Desktop/kaggle_project/kaggle/.venv/lib/python3.11/site-packages (from tensorflow<2.17,>=2.16.1->tensorflow-text) (1.67.1)\n",
      "Requirement already satisfied: tensorboard<2.17,>=2.16 in /Users/Silvia/Desktop/kaggle_project/kaggle/.venv/lib/python3.11/site-packages (from tensorflow<2.17,>=2.16.1->tensorflow-text) (2.16.2)\n",
      "Requirement already satisfied: keras>=3.0.0 in /Users/Silvia/Desktop/kaggle_project/kaggle/.venv/lib/python3.11/site-packages (from tensorflow<2.17,>=2.16.1->tensorflow-text) (3.6.0)\n",
      "Requirement already satisfied: tensorflow-io-gcs-filesystem>=0.23.1 in /Users/Silvia/Desktop/kaggle_project/kaggle/.venv/lib/python3.11/site-packages (from tensorflow<2.17,>=2.16.1->tensorflow-text) (0.37.1)\n",
      "Requirement already satisfied: numpy<2.0.0,>=1.23.5 in /Users/Silvia/Desktop/kaggle_project/kaggle/.venv/lib/python3.11/site-packages (from tensorflow<2.17,>=2.16.1->tensorflow-text) (1.26.4)\n",
      "Requirement already satisfied: wheel<1.0,>=0.23.0 in /Users/Silvia/Desktop/kaggle_project/kaggle/.venv/lib/python3.11/site-packages (from astunparse>=1.6.0->tensorflow<2.17,>=2.16.1->tensorflow-text) (0.45.0)\n",
      "Requirement already satisfied: rich in /Users/Silvia/Desktop/kaggle_project/kaggle/.venv/lib/python3.11/site-packages (from keras>=3.0.0->tensorflow<2.17,>=2.16.1->tensorflow-text) (13.9.4)\n",
      "Requirement already satisfied: namex in /Users/Silvia/Desktop/kaggle_project/kaggle/.venv/lib/python3.11/site-packages (from keras>=3.0.0->tensorflow<2.17,>=2.16.1->tensorflow-text) (0.0.8)\n",
      "Requirement already satisfied: optree in /Users/Silvia/Desktop/kaggle_project/kaggle/.venv/lib/python3.11/site-packages (from keras>=3.0.0->tensorflow<2.17,>=2.16.1->tensorflow-text) (0.13.1)\n",
      "Requirement already satisfied: charset-normalizer<4,>=2 in /Users/Silvia/Desktop/kaggle_project/kaggle/.venv/lib/python3.11/site-packages (from requests<3,>=2.21.0->tensorflow<2.17,>=2.16.1->tensorflow-text) (3.4.0)\n",
      "Requirement already satisfied: idna<4,>=2.5 in /Users/Silvia/Desktop/kaggle_project/kaggle/.venv/lib/python3.11/site-packages (from requests<3,>=2.21.0->tensorflow<2.17,>=2.16.1->tensorflow-text) (3.10)\n",
      "Requirement already satisfied: urllib3<3,>=1.21.1 in /Users/Silvia/Desktop/kaggle_project/kaggle/.venv/lib/python3.11/site-packages (from requests<3,>=2.21.0->tensorflow<2.17,>=2.16.1->tensorflow-text) (2.2.3)\n",
      "Requirement already satisfied: certifi>=2017.4.17 in /Users/Silvia/Desktop/kaggle_project/kaggle/.venv/lib/python3.11/site-packages (from requests<3,>=2.21.0->tensorflow<2.17,>=2.16.1->tensorflow-text) (2024.8.30)\n",
      "Requirement already satisfied: markdown>=2.6.8 in /Users/Silvia/Desktop/kaggle_project/kaggle/.venv/lib/python3.11/site-packages (from tensorboard<2.17,>=2.16->tensorflow<2.17,>=2.16.1->tensorflow-text) (3.7)\n",
      "Requirement already satisfied: tensorboard-data-server<0.8.0,>=0.7.0 in /Users/Silvia/Desktop/kaggle_project/kaggle/.venv/lib/python3.11/site-packages (from tensorboard<2.17,>=2.16->tensorflow<2.17,>=2.16.1->tensorflow-text) (0.7.2)\n",
      "Requirement already satisfied: werkzeug>=1.0.1 in /Users/Silvia/Desktop/kaggle_project/kaggle/.venv/lib/python3.11/site-packages (from tensorboard<2.17,>=2.16->tensorflow<2.17,>=2.16.1->tensorflow-text) (3.1.3)\n",
      "Requirement already satisfied: MarkupSafe>=2.1.1 in /Users/Silvia/Desktop/kaggle_project/kaggle/.venv/lib/python3.11/site-packages (from werkzeug>=1.0.1->tensorboard<2.17,>=2.16->tensorflow<2.17,>=2.16.1->tensorflow-text) (3.0.2)\n",
      "Requirement already satisfied: markdown-it-py>=2.2.0 in /Users/Silvia/Desktop/kaggle_project/kaggle/.venv/lib/python3.11/site-packages (from rich->keras>=3.0.0->tensorflow<2.17,>=2.16.1->tensorflow-text) (3.0.0)\n",
      "Requirement already satisfied: pygments<3.0.0,>=2.13.0 in /Users/Silvia/Desktop/kaggle_project/kaggle/.venv/lib/python3.11/site-packages (from rich->keras>=3.0.0->tensorflow<2.17,>=2.16.1->tensorflow-text) (2.18.0)\n",
      "Requirement already satisfied: mdurl~=0.1 in /Users/Silvia/Desktop/kaggle_project/kaggle/.venv/lib/python3.11/site-packages (from markdown-it-py>=2.2.0->rich->keras>=3.0.0->tensorflow<2.17,>=2.16.1->tensorflow-text) (0.1.2)\n",
      "Downloading tensorflow_text-2.16.1-cp311-cp311-macosx_10_9_x86_64.whl (6.4 MB)\n",
      "\u001b[2K   \u001b[90m━━━━━━━━━━━━━━━━━━━━━━━━━━━━━━━━━━━━━━━━\u001b[0m \u001b[32m6.4/6.4 MB\u001b[0m \u001b[31m6.9 MB/s\u001b[0m eta \u001b[36m0:00:00\u001b[0ma \u001b[36m0:00:01\u001b[0mm\n",
      "\u001b[?25hInstalling collected packages: tensorflow-text\n",
      "Successfully installed tensorflow-text-2.16.1\n",
      "Note: you may need to restart the kernel to use updated packages.\n"
     ]
    }
   ],
   "source": [
    "pip install tensorflow-text"
   ]
  },
  {
   "cell_type": "code",
   "execution_count": 1,
   "metadata": {},
   "outputs": [
    {
     "name": "stderr",
     "output_type": "stream",
     "text": [
      "2024-11-12 20:25:27.817281: I tensorflow/core/platform/cpu_feature_guard.cc:210] This TensorFlow binary is optimized to use available CPU instructions in performance-critical operations.\n",
      "To enable the following instructions: AVX2 FMA, in other operations, rebuild TensorFlow with the appropriate compiler flags.\n",
      "/Users/Silvia/Desktop/kaggle_project/kaggle/.venv/lib/python3.11/site-packages/tqdm/auto.py:21: TqdmWarning: IProgress not found. Please update jupyter and ipywidgets. See https://ipywidgets.readthedocs.io/en/stable/user_install.html\n",
      "  from .autonotebook import tqdm as notebook_tqdm\n"
     ]
    }
   ],
   "source": [
    "import keras_hub"
   ]
  },
  {
   "cell_type": "code",
   "execution_count": 2,
   "metadata": {},
   "outputs": [
    {
     "name": "stdout",
     "output_type": "stream",
     "text": [
      "Downloading from https://www.kaggle.com/api/v1/models/keras/albert/keras/albert_base_en_uncased/2/download/assets/tokenizer/vocabulary.spm...\n"
     ]
    },
    {
     "name": "stderr",
     "output_type": "stream",
     "text": [
      "100%|██████████| 742k/742k [00:00<00:00, 1.29MB/s]\n"
     ]
    },
    {
     "data": {
      "text/plain": [
       "<tf.Tensor: shape=(8,), dtype=int32, numpy=array([  13,    1,  438, 2231,  886, 2385, 4298,    9], dtype=int32)>"
      ]
     },
     "execution_count": 2,
     "metadata": {},
     "output_type": "execute_result"
    }
   ],
   "source": [
    "# Unbatched input.\n",
    "tokenizer = keras_hub.models.AlbertTokenizer.from_preset(\n",
    "    \"albert_base_en_uncased\",\n",
    ")\n",
    "tokenizer(\"The quick brown fox jumped.\")"
   ]
  },
  {
   "cell_type": "code",
   "execution_count": 3,
   "metadata": {},
   "outputs": [
    {
     "data": {
      "text/plain": [
       "[[13, 1, 438, 2231, 886, 2385, 4298, 9], [13, 1, 438, 2385, 7132, 9]]"
      ]
     },
     "execution_count": 3,
     "metadata": {},
     "output_type": "execute_result"
    }
   ],
   "source": [
    "# Batched input.\n",
    "tokenizer([\"The quick brown fox jumped.\", \"The fox slept.\"])"
   ]
  },
  {
   "cell_type": "code",
   "execution_count": 4,
   "metadata": {},
   "outputs": [
    {
     "data": {
      "text/plain": [
       "' ⁇ he quick brown fox jumped.'"
      ]
     },
     "execution_count": 4,
     "metadata": {},
     "output_type": "execute_result"
    }
   ],
   "source": [
    "# Detokenization.\n",
    "tokenizer.detokenize(tokenizer(\"The quick brown fox jumped.\"))"
   ]
  },
  {
   "cell_type": "code",
   "execution_count": 8,
   "metadata": {},
   "outputs": [],
   "source": [
    "import tensorflow as tf\n",
    "import io"
   ]
  },
  {
   "cell_type": "code",
   "execution_count": null,
   "metadata": {},
   "outputs": [
    {
     "name": "stdout",
     "output_type": "stream",
     "text": [
      "Downloading from https://www.kaggle.com/api/v1/models/keras/albert/keras/albert_extra_large_en_uncased/2/download/config.json...\n"
     ]
    },
    {
     "name": "stderr",
     "output_type": "stream",
     "text": [
      "100%|██████████| 610/610 [00:00<00:00, 344kB/s]\n"
     ]
    },
    {
     "name": "stdout",
     "output_type": "stream",
     "text": [
      "Downloading from https://www.kaggle.com/api/v1/models/keras/albert/keras/albert_extra_large_en_uncased/2/download/tokenizer.json...\n"
     ]
    },
    {
     "name": "stderr",
     "output_type": "stream",
     "text": [
      "100%|██████████| 406/406 [00:00<00:00, 357kB/s]\n"
     ]
    },
    {
     "name": "stdout",
     "output_type": "stream",
     "text": [
      "Downloading from https://www.kaggle.com/api/v1/models/keras/albert/keras/albert_extra_large_en_uncased/2/download/assets/tokenizer/vocabulary.spm...\n"
     ]
    },
    {
     "name": "stderr",
     "output_type": "stream",
     "text": [
      "100%|██████████| 742k/742k [00:00<00:00, 1.29MB/s]\n"
     ]
    }
   ],
   "source": [
    "#https://keras.io/api/keras_nlp/models/albert/albert_tokenizer/\n",
    "tokenizer = keras_hub.tokenizers.Tokenizer.from_preset(\"albert_extra_large_en_uncased\")"
   ]
  },
  {
   "cell_type": "code",
   "execution_count": 26,
   "metadata": {},
   "outputs": [
    {
     "data": {
      "text/plain": [
       "<tf.Tensor: shape=(8,), dtype=int32, numpy=\n",
       "array([   13,     1,   438,  2231,   886,  2385, 23606,     9],\n",
       "      dtype=int32)>"
      ]
     },
     "execution_count": 26,
     "metadata": {},
     "output_type": "execute_result"
    }
   ],
   "source": [
    "# Tokenize some input.\n",
    "tokenizer(\"The quick brown fox tripped.\")"
   ]
  },
  {
   "cell_type": "code",
   "execution_count": 28,
   "metadata": {},
   "outputs": [
    {
     "data": {
      "text/plain": [
       "' ⁇ he quick brown fox tripped.'"
      ]
     },
     "execution_count": 28,
     "metadata": {},
     "output_type": "execute_result"
    }
   ],
   "source": [
    "# Detokenize some input.\n",
    "tokenizer.detokenize([ 13,     1,   438,  2231,   886,  2385, 23606,     9])"
   ]
  },
  {
   "cell_type": "code",
   "execution_count": 29,
   "metadata": {},
   "outputs": [
    {
     "data": {
      "text/plain": [
       "' ⁇ he quick brown fox jumped.'"
      ]
     },
     "execution_count": 29,
     "metadata": {},
     "output_type": "execute_result"
    }
   ],
   "source": [
    "tokenizer.detokenize(tokenizer(\"The quick brown fox jumped.\"))"
   ]
  },
  {
   "cell_type": "code",
   "execution_count": null,
   "metadata": {},
   "outputs": [],
   "source": []
  }
 ],
 "metadata": {
  "kernelspec": {
   "display_name": ".venv",
   "language": "python",
   "name": "python3"
  },
  "language_info": {
   "codemirror_mode": {
    "name": "ipython",
    "version": 3
   },
   "file_extension": ".py",
   "mimetype": "text/x-python",
   "name": "python",
   "nbconvert_exporter": "python",
   "pygments_lexer": "ipython3",
   "version": "3.11.8"
  }
 },
 "nbformat": 4,
 "nbformat_minor": 2
}
